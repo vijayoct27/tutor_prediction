{
 "cells": [
  {
   "cell_type": "code",
   "execution_count": 2,
   "metadata": {},
   "outputs": [],
   "source": [
    "import pandas as pd\n",
    "import numpy as np\n",
    "import matplotlib.pyplot as plt\n",
    "import seaborn as sns\n",
    "from sklearn.feature_extraction.text import TfidfVectorizer\n",
    "from sklearn.feature_extraction.text import CountVectorizer\n",
    "from scipy import stats\n",
    "\n",
    "import re\n",
    "import nltk\n",
    "\n",
    "from nltk.corpus import stopwords\n",
    "st = set(stopwords.words('english'))\n",
    "\n",
    "from nltk.stem.porter import PorterStemmer\n",
    "from nltk.tokenize import RegexpTokenizer\n",
    "from nltk.stem.wordnet import WordNetLemmatizer\n",
    "\n",
    "from sklearn.preprocessing import StandardScaler\n",
    "from sklearn.pipeline import make_pipeline\n",
    "from sklearn.neighbors import KernelDensity\n",
    "from sklearn.decomposition import PCA"
   ]
  },
  {
   "cell_type": "code",
   "execution_count": 15,
   "metadata": {},
   "outputs": [],
   "source": [
    "def lemmatize(bio):\n",
    "    \n",
    "    stop_words = set(stopwords.words(\"english\"))\n",
    "    new_words = [\"using\", \"show\", \"result\", \"large\", \"also\", \"one\", \"two\", \"new\", \"previously\", \"shown\", 'math']\n",
    "    stop_words = stop_words.union(new_words)\n",
    "\n",
    "    #Remove punctuations\n",
    "    text = re.sub('[^a-zA-Z]', ' ', bio)\n",
    "    \n",
    "    #Convert to lowercase\n",
    "    text = text.lower()\n",
    "    \n",
    "    #remove tags\n",
    "    text=re.sub(\"&lt;/?.*?&gt;\",\" &lt;&gt; \",text)\n",
    "    \n",
    "    # remove special characters and digits\n",
    "    text=re.sub(\"(\\\\d|\\\\W)+\",\" \",text)\n",
    "    \n",
    "    # remove periods\n",
    "    text = text.replace('.', '').replace(',' , '')\n",
    "    \n",
    "    #Convert to list from string\n",
    "    text = text.split()\n",
    "    \n",
    "    ##Stemming\n",
    "    stemmer=PorterStemmer()\n",
    "    #Lemmatisation\n",
    "    lem = WordNetLemmatizer()\n",
    "    #text = [stemmer.stem(lem.lemmatize(word)) for word in text if not word in stop_words]\n",
    "    text = [lem.lemmatize(word) for word in text if not word in stop_words]\n",
    "    text = \" \".join(text)\n",
    "    return text"
   ]
  },
  {
   "cell_type": "code",
   "execution_count": 36,
   "metadata": {},
   "outputs": [
    {
     "data": {
      "text/plain": [
       "'ok'"
      ]
     },
     "execution_count": 36,
     "metadata": {},
     "output_type": "execute_result"
    }
   ],
   "source": [
    "lemmatize('ok, then')"
   ]
  },
  {
   "cell_type": "code",
   "execution_count": 40,
   "metadata": {},
   "outputs": [],
   "source": [
    "experience_list = ['experience teaching tutoring', 'experience tutoring student', 'experience working student', \n",
    "                   'many student', 'many year', \n",
    "                   'year experience teaching', 'year experience tutoring',\n",
    "                   'year experience working',\n",
    "                   'year teaching experience', 'year tutoring experience']\n",
    "                   \n",
    "welcoming_list = ['look forward hearing', 'look forward helping', 'look forward meeting', 'look forward working',\n",
    "                  'forward working', 'hello name', 'hi name', 'please contact', 'please feel',\n",
    "                  'would like', 'would love', 'feel free contact', 'feel free reach', 'free contact question']\n",
    "                  \n",
    "goal_list = ['goal help student', 'achieve academic goal',  \n",
    "             'help student succeed', 'helping student achieve']\n",
    "\n",
    "passion_list = ['enjoy helping student', 'enjoy working student', 'look forward', \n",
    "                 'believe every student', 'love help', 'love teaching', \n",
    "                 'love helping student', 'love working student', 'would love help']"
   ]
  },
  {
   "cell_type": "code",
   "execution_count": 41,
   "metadata": {},
   "outputs": [
    {
     "data": {
      "text/plain": [
       "'plenty experience teaching tutoring'"
      ]
     },
     "execution_count": 41,
     "metadata": {},
     "output_type": "execute_result"
    }
   ],
   "source": [
    "lemma = lemmatize('plenty of experience teaching and tutoring')\n",
    "lemma"
   ]
  },
  {
   "cell_type": "code",
   "execution_count": 39,
   "metadata": {},
   "outputs": [
    {
     "data": {
      "text/plain": [
       "array([[0]])"
      ]
     },
     "execution_count": 39,
     "metadata": {},
     "output_type": "execute_result"
    }
   ],
   "source": [
    "test = CountVectorizer(vocabulary=['experience teaching tutoring'])\n",
    "test.fit_transform([lemma]).toarray()"
   ]
  },
  {
   "cell_type": "code",
   "execution_count": null,
   "metadata": {},
   "outputs": [],
   "source": []
  }
 ],
 "metadata": {
  "kernelspec": {
   "display_name": "Python 3",
   "language": "python",
   "name": "python3"
  },
  "language_info": {
   "codemirror_mode": {
    "name": "ipython",
    "version": 3
   },
   "file_extension": ".py",
   "mimetype": "text/x-python",
   "name": "python",
   "nbconvert_exporter": "python",
   "pygments_lexer": "ipython3",
   "version": "3.7.6"
  }
 },
 "nbformat": 4,
 "nbformat_minor": 4
}
