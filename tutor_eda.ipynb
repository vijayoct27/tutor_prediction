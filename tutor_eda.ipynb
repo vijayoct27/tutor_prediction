{
 "cells": [
  {
   "cell_type": "code",
   "execution_count": 71,
   "metadata": {},
   "outputs": [],
   "source": [
    "import pandas as pd\n",
    "import numpy as np\n",
    "import matplotlib.pyplot as plt\n",
    "import time\n",
    "from sklearn.model_selection import cross_val_score\n",
    "from sklearn.neighbors import KNeighborsRegressor\n",
    "from sklearn.neighbors import KernelDensity\n",
    "from sklearn.ensemble import RandomForestRegressor\n",
    "from sklearn.model_selection import validation_curve"
   ]
  },
  {
   "cell_type": "code",
   "execution_count": 2,
   "metadata": {},
   "outputs": [],
   "source": [
    "df_eng = pd.read_csv('tutor_data.csv').drop(columns='Unnamed: 0')"
   ]
  },
  {
   "cell_type": "code",
   "execution_count": 430,
   "metadata": {
    "scrolled": true
   },
   "outputs": [
    {
     "data": {
      "image/png": "[encoded data removed]",
      "text/plain": [
       "<Figure size 432x288 with 1 Axes>"
      ]
     },
     "metadata": {
      "needs_background": "light"
     },
     "output_type": "display_data"
    }
   ],
   "source": [
    "plt.hist(df_eng.rate, bins=20, range=(10,200))\n",
    "plt.xlabel('Rate')\n",
    "plt.ylabel('Count')\n",
    "plt.show()"
   ]
  },
  {
   "cell_type": "code",
   "execution_count": 107,
   "metadata": {
    "scrolled": true
   },
   "outputs": [
    {
     "data": {
      "image/png": "[encoded data removed]",
      "text/plain": [
       "<Figure size 432x288 with 1 Axes>"
      ]
     },
     "metadata": {
      "needs_background": "light"
     },
     "output_type": "display_data"
    }
   ],
   "source": [
    "plt.hist(df_eng.hours_per_week_estimate, bins=20, range=(0,10))\n",
    "plt.xlabel('Hours per week estimate')\n",
    "plt.ylabel('Counts')\n",
    "plt.show()"
   ]
  },
  {
   "cell_type": "code",
   "execution_count": 439,
   "metadata": {
    "scrolled": true
   },
   "outputs": [
    {
     "data": {
      "image/png": "[encoded data removed]",
      "text/plain": [
       "<Figure size 432x288 with 1 Axes>"
      ]
     },
     "metadata": {
      "needs_background": "light"
     },
     "output_type": "display_data"
    }
   ],
   "source": [
    "plt.hist(df_eng.hours_per_week_schedule, bins=20)\n",
    "plt.xlabel('Hours per week scheulded')\n",
    "plt.ylabel('Counts')\n",
    "plt.show()"
   ]
  },
  {
   "cell_type": "code",
   "execution_count": 162,
   "metadata": {
    "scrolled": false
   },
   "outputs": [],
   "source": [
    "#dict_of_subjects = dict()\n",
    "#for i in df_eng['subjects_all']:\n",
    "#    x = i.replace('[', '').replace(']', '').split(',')\n",
    "#    for item in x:\n",
    "#        if (item in dict_of_subjects): \n",
    "#            dict_of_subjects[item] += 1\n",
    "#        else: \n",
    "#            dict_of_subjects[item] = 1\n",
    "#dict_of_subjects = sorted(dict_of_subjects.items(), key=lambda x: x[1], reverse=True)"
   ]
  },
  {
   "cell_type": "code",
   "execution_count": 3,
   "metadata": {},
   "outputs": [],
   "source": [
    "def string_to_list(i):\n",
    "    x = i.replace('[', '').replace(']', '').replace('\\'', '').split(',')\n",
    "    list_i = list()\n",
    "    for j in x:\n",
    "        list_i.append(j.lstrip().rstrip())\n",
    "    return list_i\n",
    "\n",
    "subjects_all_list = []\n",
    "for i in df_eng['subjects_all']:\n",
    "    subjects_all_list.append(string_to_list(i))\n",
    "df_eng['subjects_list'] = np.array(subjects_all_list)\n",
    "\n",
    "subjects_emph_list = []\n",
    "for i in df_eng['subjects_emph']:\n",
    "    subjects_emph_list.append(string_to_list(i))\n",
    "df_eng['subjects_emph_list'] = np.array(subjects_emph_list)\n",
    "\n",
    "#edu_list = []\n",
    "#for i in df_eng['edu']:\n",
    "#    edu_list.append(string_to_list(i))\n",
    "#df_eng['edu_list'] = np.array(edu_list)\n",
    "\n",
    "df_eng.drop(columns=['subjects_all','subjects_emph'], inplace=True)"
   ]
  },
  {
   "cell_type": "code",
   "execution_count": 4,
   "metadata": {
    "scrolled": true
   },
   "outputs": [],
   "source": [
    "# engineer subjects categories\n",
    "feature = 'subjects_list'\n",
    "size_subjects = len(df_eng[feature].explode().value_counts().index)\n",
    "popular_subjects = list(df_eng[feature].explode().value_counts().index[:size_subjects//3])\n",
    "mid_subjects = list(df_eng[feature].explode().value_counts().index[size_subjects//3:(size_subjects//3 + size_subjects//3)])\n",
    "unpopular_subjects = list(df_eng[feature].explode().value_counts().index[(size_subjects//3 + size_subjects//3):])\n",
    "\n",
    "unwanted = ''\n",
    "if unwanted in popular_subjects:\n",
    "    popular_subjects.remove(unwanted)\n",
    "elif unwanted in mid_subjects:\n",
    "    mid_subjects.remove(unwanted)\n",
    "elif unwanted in unpopular_subjects:\n",
    "    unpopular_subjects.remove(unwanted)\n",
    "\n",
    "popular_list = []\n",
    "mid_list = []\n",
    "unpopular_list = []\n",
    "for f in df_eng[feature]:\n",
    "    num_popular = 0\n",
    "    num_mid = 0\n",
    "    num_unpopular = 0\n",
    "    for j in f:\n",
    "        if j in popular_subjects:\n",
    "            num_popular += 1\n",
    "        elif j in mid_subjects:\n",
    "            num_mid += 1\n",
    "        elif j in unpopular_subjects:\n",
    "            num_unpopular += 1\n",
    "    popular_list.append(num_popular)\n",
    "    mid_list.append(num_mid)\n",
    "    unpopular_list.append(num_unpopular)\n",
    "df_eng['num_popular_subjects'] = np.array(popular_list)\n",
    "df_eng['num_mid_subjects'] = np.array(mid_list)\n",
    "df_eng['num_unpopular_subjects'] = np.array(unpopular_list)"
   ]
  },
  {
   "cell_type": "code",
   "execution_count": 443,
   "metadata": {},
   "outputs": [
    {
     "data": {
      "text/html": [
       "<div>\n",
       "<style scoped>\n",
       "    .dataframe tbody tr th:only-of-type {\n",
       "        vertical-align: middle;\n",
       "    }\n",
       "\n",
       "    .dataframe tbody tr th {\n",
       "        vertical-align: top;\n",
       "    }\n",
       "\n",
       "    .dataframe thead th {\n",
       "        text-align: right;\n",
       "    }\n",
       "</style>\n",
       "<table border=\"1\" class=\"dataframe\">\n",
       "  <thead>\n",
       "    <tr style=\"text-align: right;\">\n",
       "      <th></th>\n",
       "      <th>descriptions</th>\n",
       "      <th>rate</th>\n",
       "      <th>bio</th>\n",
       "      <th>edu</th>\n",
       "      <th>hours_sun</th>\n",
       "      <th>hours_mon</th>\n",
       "      <th>hours_tues</th>\n",
       "      <th>hours_wed</th>\n",
       "      <th>hours_thurs</th>\n",
       "      <th>hours_fri</th>\n",
       "      <th>...</th>\n",
       "      <th>hours_per_week_estimate</th>\n",
       "      <th>descriptions_length</th>\n",
       "      <th>bio_length</th>\n",
       "      <th>number_subjects</th>\n",
       "      <th>number_degrees</th>\n",
       "      <th>subjects_list</th>\n",
       "      <th>subjects_emph_list</th>\n",
       "      <th>num_popular_subjects</th>\n",
       "      <th>num_mid_subjects</th>\n",
       "      <th>num_unpopular_subjects</th>\n",
       "    </tr>\n",
       "  </thead>\n",
       "  <tbody>\n",
       "    <tr>\n",
       "      <th>0</th>\n",
       "      <td>Computer Sciences BA Grad and Software Enginee...</td>\n",
       "      <td>30</td>\n",
       "      <td>Hey all! I'm Alex, a full stack software engin...</td>\n",
       "      <td>['Northern Michigan University Computer Scienc...</td>\n",
       "      <td>14</td>\n",
       "      <td>6</td>\n",
       "      <td>6</td>\n",
       "      <td>6</td>\n",
       "      <td>6</td>\n",
       "      <td>6</td>\n",
       "      <td>...</td>\n",
       "      <td>16.459459</td>\n",
       "      <td>50</td>\n",
       "      <td>1027</td>\n",
       "      <td>8</td>\n",
       "      <td>1</td>\n",
       "      <td>[HTML, SQL, Python, JavaScript, Elementary Mat...</td>\n",
       "      <td>[C#, Computer Science]</td>\n",
       "      <td>1</td>\n",
       "      <td>1</td>\n",
       "      <td>4</td>\n",
       "    </tr>\n",
       "    <tr>\n",
       "      <th>1</th>\n",
       "      <td>Experienced, credentialed math teacher/tutor (...</td>\n",
       "      <td>80</td>\n",
       "      <td>The school year's in full swing! Feel free to ...</td>\n",
       "      <td>['Stanford University Chemical Engineering', '...</td>\n",
       "      <td>0</td>\n",
       "      <td>2</td>\n",
       "      <td>4</td>\n",
       "      <td>4</td>\n",
       "      <td>0</td>\n",
       "      <td>2</td>\n",
       "      <td>...</td>\n",
       "      <td>6.551862</td>\n",
       "      <td>67</td>\n",
       "      <td>1674</td>\n",
       "      <td>10</td>\n",
       "      <td>3</td>\n",
       "      <td>[]</td>\n",
       "      <td>[Geometry, Prealgebra, Algebra 2, Precalculus,...</td>\n",
       "      <td>0</td>\n",
       "      <td>0</td>\n",
       "      <td>0</td>\n",
       "    </tr>\n",
       "    <tr>\n",
       "      <th>2</th>\n",
       "      <td>Tutor from Georgetown University</td>\n",
       "      <td>80</td>\n",
       "      <td>Hello, I grew up mostly in New York City and w...</td>\n",
       "      <td>['(attending) Georgetown University undergrad']</td>\n",
       "      <td>9</td>\n",
       "      <td>13</td>\n",
       "      <td>13</td>\n",
       "      <td>13</td>\n",
       "      <td>13</td>\n",
       "      <td>13</td>\n",
       "      <td>...</td>\n",
       "      <td>0.641598</td>\n",
       "      <td>32</td>\n",
       "      <td>2040</td>\n",
       "      <td>8</td>\n",
       "      <td>1</td>\n",
       "      <td>[Algebra 2, Precalculus, Physics, Calculus, Eu...</td>\n",
       "      <td>[]</td>\n",
       "      <td>4</td>\n",
       "      <td>4</td>\n",
       "      <td>0</td>\n",
       "    </tr>\n",
       "    <tr>\n",
       "      <th>3</th>\n",
       "      <td>Fairfax County Tutor for HS Math and Science</td>\n",
       "      <td>45</td>\n",
       "      <td>I came to tutoring as a second career after re...</td>\n",
       "      <td>['Fordham College at Rose Hill Physics', 'Univ...</td>\n",
       "      <td>10</td>\n",
       "      <td>10</td>\n",
       "      <td>10</td>\n",
       "      <td>10</td>\n",
       "      <td>10</td>\n",
       "      <td>10</td>\n",
       "      <td>...</td>\n",
       "      <td>6.188707</td>\n",
       "      <td>44</td>\n",
       "      <td>1103</td>\n",
       "      <td>12</td>\n",
       "      <td>2</td>\n",
       "      <td>[Prealgebra, Precalculus, Trigonometry, ACT Ma...</td>\n",
       "      <td>[SOL, Chemistry, Algebra 2, Physics, Calculus,...</td>\n",
       "      <td>6</td>\n",
       "      <td>0</td>\n",
       "      <td>0</td>\n",
       "    </tr>\n",
       "    <tr>\n",
       "      <th>4</th>\n",
       "      <td>Ivy League Kaplan Tutor for Math, Science, Eng...</td>\n",
       "      <td>65</td>\n",
       "      <td>As a graduate of a top tier university with 10...</td>\n",
       "      <td>['Columbia University - Teachers College under...</td>\n",
       "      <td>10</td>\n",
       "      <td>4</td>\n",
       "      <td>5</td>\n",
       "      <td>5</td>\n",
       "      <td>5</td>\n",
       "      <td>5</td>\n",
       "      <td>...</td>\n",
       "      <td>0.018337</td>\n",
       "      <td>68</td>\n",
       "      <td>1261</td>\n",
       "      <td>15</td>\n",
       "      <td>1</td>\n",
       "      <td>[Geometry, Grammar, Biology, Spanish, Precalcu...</td>\n",
       "      <td>[Handwriting, Prealgebra, Algebra 2, ASVAB, El...</td>\n",
       "      <td>5</td>\n",
       "      <td>1</td>\n",
       "      <td>0</td>\n",
       "    </tr>\n",
       "  </tbody>\n",
       "</table>\n",
       "<p>5 rows × 24 columns</p>\n",
       "</div>"
      ],
      "text/plain": [
       "                                        descriptions  rate  \\\n",
       "0  Computer Sciences BA Grad and Software Enginee...    30   \n",
       "1  Experienced, credentialed math teacher/tutor (...    80   \n",
       "2                   Tutor from Georgetown University    80   \n",
       "3       Fairfax County Tutor for HS Math and Science    45   \n",
       "4  Ivy League Kaplan Tutor for Math, Science, Eng...    65   \n",
       "\n",
       "                                                 bio  \\\n",
       "0  Hey all! I'm Alex, a full stack software engin...   \n",
       "1  The school year's in full swing! Feel free to ...   \n",
       "2  Hello, I grew up mostly in New York City and w...   \n",
       "3  I came to tutoring as a second career after re...   \n",
       "4  As a graduate of a top tier university with 10...   \n",
       "\n",
       "                                                 edu  hours_sun  hours_mon  \\\n",
       "0  ['Northern Michigan University Computer Scienc...         14          6   \n",
       "1  ['Stanford University Chemical Engineering', '...          0          2   \n",
       "2    ['(attending) Georgetown University undergrad']          9         13   \n",
       "3  ['Fordham College at Rose Hill Physics', 'Univ...         10         10   \n",
       "4  ['Columbia University - Teachers College under...         10          4   \n",
       "\n",
       "   hours_tues  hours_wed  hours_thurs  hours_fri  ...  \\\n",
       "0           6          6            6          6  ...   \n",
       "1           4          4            0          2  ...   \n",
       "2          13         13           13         13  ...   \n",
       "3          10         10           10         10  ...   \n",
       "4           5          5            5          5  ...   \n",
       "\n",
       "   hours_per_week_estimate  descriptions_length bio_length number_subjects  \\\n",
       "0                16.459459                   50       1027               8   \n",
       "1                 6.551862                   67       1674              10   \n",
       "2                 0.641598                   32       2040               8   \n",
       "3                 6.188707                   44       1103              12   \n",
       "4                 0.018337                   68       1261              15   \n",
       "\n",
       "   number_degrees                                      subjects_list  \\\n",
       "0               1  [HTML, SQL, Python, JavaScript, Elementary Mat...   \n",
       "1               3                                                 []   \n",
       "2               1  [Algebra 2, Precalculus, Physics, Calculus, Eu...   \n",
       "3               2  [Prealgebra, Precalculus, Trigonometry, ACT Ma...   \n",
       "4               1  [Geometry, Grammar, Biology, Spanish, Precalcu...   \n",
       "\n",
       "                                  subjects_emph_list  num_popular_subjects  \\\n",
       "0                             [C#, Computer Science]                     1   \n",
       "1  [Geometry, Prealgebra, Algebra 2, Precalculus,...                     0   \n",
       "2                                                 []                     4   \n",
       "3  [SOL, Chemistry, Algebra 2, Physics, Calculus,...                     6   \n",
       "4  [Handwriting, Prealgebra, Algebra 2, ASVAB, El...                     5   \n",
       "\n",
       "   num_mid_subjects num_unpopular_subjects  \n",
       "0                 1                      4  \n",
       "1                 0                      0  \n",
       "2                 4                      0  \n",
       "3                 0                      0  \n",
       "4                 1                      0  \n",
       "\n",
       "[5 rows x 24 columns]"
      ]
     },
     "execution_count": 443,
     "metadata": {},
     "output_type": "execute_result"
    }
   ],
   "source": [
    "df_eng.head()"
   ]
  },
  {
   "cell_type": "code",
   "execution_count": 5,
   "metadata": {},
   "outputs": [],
   "source": [
    "# engineer edu degree categories\n",
    "\n",
    "undergrad = ['BA', 'B.A.', 'BS', 'B.S.', '']\n",
    "postgrad = ['MS', 'M.S', 'MA', 'M.A', 'masters', 'Masters', 'CA', 'C.A', \n",
    "            'MBA', 'M.B.A', 'MD', 'M.D', 'PhD', 'Ph.D', 'Ph.D.', 'Graduate']\n",
    "certified = ['education', 'Ced', 'certified']\n",
    "\n",
    "undergrad_degree = []\n",
    "postgrad_degree = []\n",
    "certified_degree = []\n",
    "for e in df_eng['edu']:\n",
    "    undergrad_count = 0\n",
    "    postgrad_count = 0\n",
    "    certified_count = 0\n",
    "    if any(x in e for x in undergrad):\n",
    "        undergrad_count += 1\n",
    "    if any(x in e for x in postgrad):\n",
    "        postgrad_count += 1\n",
    "    if any(x in e for x in certified):\n",
    "        certified_count +=1\n",
    "    undergrad_degree.append(undergrad_count)\n",
    "    postgrad_degree.append(postgrad_count)\n",
    "    certified_degree.append(certified_count)\n",
    "df_eng['undergrad_degree'] = np.array(undergrad_degree)\n",
    "df_eng['postgrad_degree'] = np.array(postgrad_degree)\n",
    "df_eng['certified_degree'] = np.array(certified_degree)"
   ]
  },
  {
   "cell_type": "code",
   "execution_count": 6,
   "metadata": {},
   "outputs": [],
   "source": [
    "# get university rankings\n",
    "df_wur = pd.read_csv('world-university-rankings_cwurData.csv')\n",
    "df_wur_select = df_wur[['institution', 'world_rank']]\n",
    "\n",
    "list_of_top_schools = (list(df_wur_select['institution'][:30]) + \n",
    "['Berkeley', 'Caltech', 'Harvard', 'Yale', 'Princeton', 'MIT', 'Stanford'])\n",
    "\n",
    "top_school = []\n",
    "for e in df_eng['edu']:\n",
    "    top = 0\n",
    "    if any(x in e for x in list_of_top_schools):\n",
    "        top += 1\n",
    "    top_school.append(top)\n",
    "df_eng['top_school'] = np.array(top_school)"
   ]
  },
  {
   "cell_type": "code",
   "execution_count": 12,
   "metadata": {
    "scrolled": true
   },
   "outputs": [],
   "source": [
    "cols_to_drop = ['descriptions', 'bio', 'subjects_list', 'subjects_emph_list', 'edu', 'bg_check_date', 'earliest_review_date']\n",
    "df_eda = df_eng.drop(columns=cols_to_drop)"
   ]
  },
  {
   "cell_type": "code",
   "execution_count": 77,
   "metadata": {},
   "outputs": [],
   "source": [
    "target = ['hours_per_week_estimate']\n",
    "X = df_eda.drop(columns=target)\n",
    "y = df_eda[target]"
   ]
  },
  {
   "cell_type": "code",
   "execution_count": 79,
   "metadata": {},
   "outputs": [],
   "source": [
    "def score_CV(model, data, y, metric):\n",
    "    score = cross_val_score(model, data, y, cv=5, scoring=metric)\n",
    "    print(metric, 'mean:', '%.2f'%np.mean(score))"
   ]
  },
  {
   "cell_type": "code",
   "execution_count": 98,
   "metadata": {},
   "outputs": [
    {
     "name": "stdout",
     "output_type": "stream",
     "text": [
      "neg_mean_squared_error mean: -32.02\n"
     ]
    }
   ],
   "source": [
    "knn = KNeighborsRegressor(weights='distance', n_neighbors = 15)\n",
    "scores = score_CV(knn, X, y, 'neg_mean_squared_error')"
   ]
  },
  {
   "cell_type": "code",
   "execution_count": 100,
   "metadata": {},
   "outputs": [
    {
     "data": {
      "image/png": "[encoded data removed]",
      "text/plain": [
       "<Figure size 432x288 with 1 Axes>"
      ]
     },
     "metadata": {
      "needs_background": "light"
     },
     "output_type": "display_data"
    }
   ],
   "source": [
    "k_range = range(1, 31)\n",
    "k_scores = []\n",
    "for k in k_range:\n",
    "    knn = KNeighborsRegressor(n_neighbors=k, weights='distance')\n",
    "    loss = abs(cross_val_score(knn, X, y, cv=5, scoring='neg_mean_squared_error'))\n",
    "    k_scores.append(loss.mean())\n",
    "plt.plot(k_range, k_scores)\n",
    "plt.xlabel('Value of K for KNN')\n",
    "plt.ylabel('Cross-Validated MSE, hours/week')\n",
    "plt.show()"
   ]
  },
  {
   "cell_type": "code",
   "execution_count": 111,
   "metadata": {},
   "outputs": [
    {
     "data": {
      "image/png": "[encoded data removed]",
      "text/plain": [
       "<Figure size 432x288 with 1 Axes>"
      ]
     },
     "metadata": {
      "needs_background": "light"
     },
     "output_type": "display_data"
    }
   ],
   "source": [
    "rf = RandomForestRegressor(n_estimators=50, criterion='mse', random_state=0)\n",
    "# Plot validation curve\n",
    "param_range = np.arange(1,51,10)\n",
    "train_scores, valid_scores = validation_curve(rf, X, y, 'min_samples_leaf', \n",
    "                                              param_range, cv=5, scoring='neg_mean_squared_error')\n",
    "\n",
    "train_scores_mean = -np.mean(train_scores, axis=1)\n",
    "train_scores_std = -np.std(train_scores, axis=1)\n",
    "valid_scores_mean = -np.mean(valid_scores, axis=1)\n",
    "valid_scores_std = -np.std(valid_scores, axis=1)\n",
    "\n",
    "plt.title(\"Validation Curve, Random Forest\")\n",
    "plt.xlabel('min_samples_leaf')\n",
    "plt.ylabel(\"score - MSE\")\n",
    "plt.ylim(0, 100)\n",
    "lw = 2\n",
    "plt.semilogx(param_range, train_scores_mean, label=\"Training score\",\n",
    "             color=\"darkorange\", lw=lw)\n",
    "plt.fill_between(param_range, train_scores_mean - train_scores_std,\n",
    "                 train_scores_mean + train_scores_std, alpha=0.2,\n",
    "                 color=\"darkorange\", lw=lw)\n",
    "plt.semilogx(param_range, valid_scores_mean, label=\"Cross-validation score\",\n",
    "             color=\"navy\", lw=lw)\n",
    "plt.fill_between(param_range, valid_scores_mean - valid_scores_std,\n",
    "                 valid_scores_mean + valid_scores_std, alpha=0.2,\n",
    "                 color=\"navy\", lw=lw)\n",
    "plt.legend(loc=\"best\")\n",
    "plt.show()"
   ]
  },
  {
   "cell_type": "code",
   "execution_count": 101,
   "metadata": {},
   "outputs": [
    {
     "name": "stdout",
     "output_type": "stream",
     "text": [
      "Feature ranking:\n",
      "feature rate (0.18)\n",
      "feature number_subjects (0.11)\n",
      "feature bio_length (0.10)\n",
      "feature hours_sat (0.10)\n",
      "feature hours_per_week_schedule (0.09)\n",
      "feature descriptions_length (0.08)\n",
      "feature num_popular_subjects (0.06)\n",
      "feature hours_thurs (0.04)\n",
      "feature hours_tues (0.04)\n",
      "feature hours_sun (0.04)\n",
      "feature hours_mon (0.04)\n",
      "feature hours_wed (0.04)\n",
      "feature num_mid_subjects (0.03)\n",
      "feature hours_fri (0.02)\n",
      "feature num_unpopular_subjects (0.01)\n",
      "feature number_degrees (0.01)\n",
      "feature top_school (0.01)\n",
      "feature postgrad_degree (0.01)\n",
      "feature certified_degree (0.00)\n",
      "feature undergrad_degree (0.00)\n"
     ]
    },
    {
     "data": {
      "image/png": "[encoded data removed]",
      "text/plain": [
       "<Figure size 432x288 with 1 Axes>"
      ]
     },
     "metadata": {
      "needs_background": "light"
     },
     "output_type": "display_data"
    }
   ],
   "source": [
    "rf = RandomForestRegressor(n_estimators=50, criterion='mse', min_samples_leaf=10, random_state=0)\n",
    "y = df_eda['hours_per_week_estimate']\n",
    "features = list(X.columns)\n",
    "rf.fit(X, y)\n",
    "importances = rf.feature_importances_\n",
    "std = np.std([tree.feature_importances_ for tree in rf.estimators_],\n",
    "             axis=0)\n",
    "indices = np.argsort(importances)[::-1]\n",
    "\n",
    "# Print feature ranking\n",
    "print(\"Feature ranking:\")\n",
    "test = [features[f] for f in indices]\n",
    "for f in range(X.shape[1]):\n",
    "    print(\"feature %s (%.2f)\" %(test[f], importances[indices[f]]))\n",
    "\n",
    "# Plot feature importances of the forest\n",
    "plt.figure()\n",
    "plt.title(\"Feature importances\")\n",
    "plt.bar(range(X.shape[1]), importances[indices],\n",
    "       color=\"r\", yerr=std[indices], align=\"center\")\n",
    "plt.xticks(range(X.shape[1]), test, rotation='vertical')\n",
    "plt.xlim([-1, X.shape[1]])\n",
    "plt.show()"
   ]
  }
 ],
 "metadata": {
  "kernelspec": {
   "display_name": "Python 3",
   "language": "python",
   "name": "python3"
  },
  "language_info": {
   "codemirror_mode": {
    "name": "ipython",
    "version": 3
   },
   "file_extension": ".py",
   "mimetype": "text/x-python",
   "name": "python",
   "nbconvert_exporter": "python",
   "pygments_lexer": "ipython3",
   "version": "3.7.6"
  }
 },
 "nbformat": 4,
 "nbformat_minor": 4
}
