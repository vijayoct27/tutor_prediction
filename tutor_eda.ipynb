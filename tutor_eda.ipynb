{
 "cells": [
  {
   "cell_type": "code",
   "execution_count": 1,
   "metadata": {},
   "outputs": [],
   "source": [
    "import pandas as pd\n",
    "import numpy as np\n",
    "import matplotlib.pyplot as plt\n",
    "import time\n",
    "from sklearn.model_selection import cross_val_score\n",
    "from sklearn.neighbors import KNeighborsRegressor\n",
    "from sklearn.neighbors import KernelDensity\n",
    "from sklearn.ensemble import RandomForestRegressor\n",
    "from sklearn.model_selection import validation_curve\n",
    "from scipy import stats"
   ]
  },
  {
   "cell_type": "code",
   "execution_count": 12,
   "metadata": {},
   "outputs": [],
   "source": [
    "df_eng = pd.read_csv('tutor_data.csv').drop(columns='Unnamed: 0')"
   ]
  },
  {
   "cell_type": "code",
   "execution_count": 13,
   "metadata": {
    "scrolled": true
   },
   "outputs": [
    {
     "data": {
      "image/png": "[encoded data removed]",
      "text/plain": [
       "<Figure size 432x288 with 1 Axes>"
      ]
     },
     "metadata": {
      "needs_background": "light"
     },
     "output_type": "display_data"
    }
   ],
   "source": [
    "plt.hist(df_eng.rate, bins=20, range=(10,200), density=True)\n",
    "plt.xlabel('Rate')\n",
    "plt.ylabel('Count')\n",
    "plt.show()"
   ]
  },
  {
   "cell_type": "code",
   "execution_count": 5,
   "metadata": {},
   "outputs": [
    {
     "data": {
      "text/html": [
       "<div>\n",
       "<style scoped>\n",
       "    .dataframe tbody tr th:only-of-type {\n",
       "        vertical-align: middle;\n",
       "    }\n",
       "\n",
       "    .dataframe tbody tr th {\n",
       "        vertical-align: top;\n",
       "    }\n",
       "\n",
       "    .dataframe thead th {\n",
       "        text-align: right;\n",
       "    }\n",
       "</style>\n",
       "<table border=\"1\" class=\"dataframe\">\n",
       "  <thead>\n",
       "    <tr style=\"text-align: right;\">\n",
       "      <th></th>\n",
       "      <th>rate</th>\n",
       "      <th>hours_sun</th>\n",
       "      <th>hours_mon</th>\n",
       "      <th>hours_tues</th>\n",
       "      <th>hours_wed</th>\n",
       "      <th>hours_thurs</th>\n",
       "      <th>hours_fri</th>\n",
       "      <th>hours_sat</th>\n",
       "      <th>hours_per_week_schedule</th>\n",
       "      <th>hours_per_week_estimate</th>\n",
       "      <th>descriptions_length</th>\n",
       "      <th>bio_length</th>\n",
       "      <th>number_subjects</th>\n",
       "      <th>number_degrees</th>\n",
       "    </tr>\n",
       "  </thead>\n",
       "  <tbody>\n",
       "    <tr>\n",
       "      <th>count</th>\n",
       "      <td>2493.000000</td>\n",
       "      <td>2493.000000</td>\n",
       "      <td>2493.000000</td>\n",
       "      <td>2493.000000</td>\n",
       "      <td>2493.000000</td>\n",
       "      <td>2493.000000</td>\n",
       "      <td>2493.000000</td>\n",
       "      <td>2493.000000</td>\n",
       "      <td>2493.000000</td>\n",
       "      <td>2493.000000</td>\n",
       "      <td>2493.000000</td>\n",
       "      <td>2493.000000</td>\n",
       "      <td>2493.000000</td>\n",
       "      <td>2493.000000</td>\n",
       "    </tr>\n",
       "    <tr>\n",
       "      <th>mean</th>\n",
       "      <td>54.533093</td>\n",
       "      <td>8.583634</td>\n",
       "      <td>8.427998</td>\n",
       "      <td>8.845568</td>\n",
       "      <td>8.845568</td>\n",
       "      <td>8.941837</td>\n",
       "      <td>8.740473</td>\n",
       "      <td>9.385078</td>\n",
       "      <td>61.770156</td>\n",
       "      <td>2.926775</td>\n",
       "      <td>49.863618</td>\n",
       "      <td>1400.248295</td>\n",
       "      <td>15.189731</td>\n",
       "      <td>1.821500</td>\n",
       "    </tr>\n",
       "    <tr>\n",
       "      <th>std</th>\n",
       "      <td>35.139841</td>\n",
       "      <td>5.814336</td>\n",
       "      <td>5.425193</td>\n",
       "      <td>5.331376</td>\n",
       "      <td>5.331376</td>\n",
       "      <td>5.273825</td>\n",
       "      <td>5.406401</td>\n",
       "      <td>5.621713</td>\n",
       "      <td>33.013418</td>\n",
       "      <td>5.821007</td>\n",
       "      <td>15.458530</td>\n",
       "      <td>518.562542</td>\n",
       "      <td>9.788765</td>\n",
       "      <td>0.795142</td>\n",
       "    </tr>\n",
       "    <tr>\n",
       "      <th>min</th>\n",
       "      <td>10.000000</td>\n",
       "      <td>0.000000</td>\n",
       "      <td>0.000000</td>\n",
       "      <td>0.000000</td>\n",
       "      <td>0.000000</td>\n",
       "      <td>0.000000</td>\n",
       "      <td>0.000000</td>\n",
       "      <td>0.000000</td>\n",
       "      <td>0.000000</td>\n",
       "      <td>0.005004</td>\n",
       "      <td>9.000000</td>\n",
       "      <td>235.000000</td>\n",
       "      <td>1.000000</td>\n",
       "      <td>0.000000</td>\n",
       "    </tr>\n",
       "    <tr>\n",
       "      <th>25%</th>\n",
       "      <td>39.000000</td>\n",
       "      <td>4.000000</td>\n",
       "      <td>4.000000</td>\n",
       "      <td>5.000000</td>\n",
       "      <td>5.000000</td>\n",
       "      <td>5.000000</td>\n",
       "      <td>4.000000</td>\n",
       "      <td>5.000000</td>\n",
       "      <td>37.000000</td>\n",
       "      <td>0.501674</td>\n",
       "      <td>38.000000</td>\n",
       "      <td>961.000000</td>\n",
       "      <td>8.000000</td>\n",
       "      <td>1.000000</td>\n",
       "    </tr>\n",
       "    <tr>\n",
       "      <th>50%</th>\n",
       "      <td>49.000000</td>\n",
       "      <td>9.000000</td>\n",
       "      <td>8.000000</td>\n",
       "      <td>9.000000</td>\n",
       "      <td>9.000000</td>\n",
       "      <td>9.000000</td>\n",
       "      <td>9.000000</td>\n",
       "      <td>10.000000</td>\n",
       "      <td>58.000000</td>\n",
       "      <td>1.320175</td>\n",
       "      <td>53.000000</td>\n",
       "      <td>1413.000000</td>\n",
       "      <td>13.000000</td>\n",
       "      <td>2.000000</td>\n",
       "    </tr>\n",
       "    <tr>\n",
       "      <th>75%</th>\n",
       "      <td>60.000000</td>\n",
       "      <td>12.000000</td>\n",
       "      <td>12.000000</td>\n",
       "      <td>12.000000</td>\n",
       "      <td>12.000000</td>\n",
       "      <td>12.000000</td>\n",
       "      <td>12.000000</td>\n",
       "      <td>13.000000</td>\n",
       "      <td>81.000000</td>\n",
       "      <td>3.407895</td>\n",
       "      <td>63.000000</td>\n",
       "      <td>1977.000000</td>\n",
       "      <td>20.000000</td>\n",
       "      <td>2.000000</td>\n",
       "    </tr>\n",
       "    <tr>\n",
       "      <th>max</th>\n",
       "      <td>500.000000</td>\n",
       "      <td>24.000000</td>\n",
       "      <td>24.000000</td>\n",
       "      <td>24.000000</td>\n",
       "      <td>24.000000</td>\n",
       "      <td>24.000000</td>\n",
       "      <td>24.000000</td>\n",
       "      <td>24.000000</td>\n",
       "      <td>168.000000</td>\n",
       "      <td>189.000000</td>\n",
       "      <td>70.000000</td>\n",
       "      <td>2048.000000</td>\n",
       "      <td>102.000000</td>\n",
       "      <td>3.000000</td>\n",
       "    </tr>\n",
       "  </tbody>\n",
       "</table>\n",
       "</div>"
      ],
      "text/plain": [
       "              rate    hours_sun    hours_mon   hours_tues    hours_wed  \\\n",
       "count  2493.000000  2493.000000  2493.000000  2493.000000  2493.000000   \n",
       "mean     54.533093     8.583634     8.427998     8.845568     8.845568   \n",
       "std      35.139841     5.814336     5.425193     5.331376     5.331376   \n",
       "min      10.000000     0.000000     0.000000     0.000000     0.000000   \n",
       "25%      39.000000     4.000000     4.000000     5.000000     5.000000   \n",
       "50%      49.000000     9.000000     8.000000     9.000000     9.000000   \n",
       "75%      60.000000    12.000000    12.000000    12.000000    12.000000   \n",
       "max     500.000000    24.000000    24.000000    24.000000    24.000000   \n",
       "\n",
       "       hours_thurs    hours_fri    hours_sat  hours_per_week_schedule  \\\n",
       "count  2493.000000  2493.000000  2493.000000              2493.000000   \n",
       "mean      8.941837     8.740473     9.385078                61.770156   \n",
       "std       5.273825     5.406401     5.621713                33.013418   \n",
       "min       0.000000     0.000000     0.000000                 0.000000   \n",
       "25%       5.000000     4.000000     5.000000                37.000000   \n",
       "50%       9.000000     9.000000    10.000000                58.000000   \n",
       "75%      12.000000    12.000000    13.000000                81.000000   \n",
       "max      24.000000    24.000000    24.000000               168.000000   \n",
       "\n",
       "       hours_per_week_estimate  descriptions_length   bio_length  \\\n",
       "count              2493.000000          2493.000000  2493.000000   \n",
       "mean                  2.926775            49.863618  1400.248295   \n",
       "std                   5.821007            15.458530   518.562542   \n",
       "min                   0.005004             9.000000   235.000000   \n",
       "25%                   0.501674            38.000000   961.000000   \n",
       "50%                   1.320175            53.000000  1413.000000   \n",
       "75%                   3.407895            63.000000  1977.000000   \n",
       "max                 189.000000            70.000000  2048.000000   \n",
       "\n",
       "       number_subjects  number_degrees  \n",
       "count      2493.000000     2493.000000  \n",
       "mean         15.189731        1.821500  \n",
       "std           9.788765        0.795142  \n",
       "min           1.000000        0.000000  \n",
       "25%           8.000000        1.000000  \n",
       "50%          13.000000        2.000000  \n",
       "75%          20.000000        2.000000  \n",
       "max         102.000000        3.000000  "
      ]
     },
     "execution_count": 5,
     "metadata": {},
     "output_type": "execute_result"
    }
   ],
   "source": [
    "df_eng.describe()"
   ]
  },
  {
   "cell_type": "code",
   "execution_count": 14,
   "metadata": {
    "scrolled": false
   },
   "outputs": [
    {
     "data": {
      "image/png": "[encoded data removed]",
      "text/plain": [
       "<Figure size 432x288 with 1 Axes>"
      ]
     },
     "metadata": {
      "needs_background": "light"
     },
     "output_type": "display_data"
    }
   ],
   "source": [
    "plt.hist(df_eng.hours_per_week_estimate, bins=30, range=(0,20), density=True)\n",
    "plt.xlabel('Hours per week estimate')\n",
    "plt.ylabel('Counts')\n",
    "plt.show()"
   ]
  },
  {
   "cell_type": "code",
   "execution_count": 5,
   "metadata": {
    "scrolled": true
   },
   "outputs": [
    {
     "data": {
      "image/png": "[encoded data removed]",
      "text/plain": [
       "<Figure size 432x288 with 1 Axes>"
      ]
     },
     "metadata": {
      "needs_background": "light"
     },
     "output_type": "display_data"
    }
   ],
   "source": [
    "plt.hist(df_eng.hours_per_week_schedule, bins=20)\n",
    "plt.xlabel('Hours per week scheulded')\n",
    "plt.ylabel('Counts')\n",
    "plt.show()"
   ]
  },
  {
   "cell_type": "code",
   "execution_count": 15,
   "metadata": {},
   "outputs": [],
   "source": [
    "def string_to_list(i):\n",
    "    x = i.replace('[', '').replace(']', '').replace('\\'', '').split(',')\n",
    "    list_i = list()\n",
    "    for j in x:\n",
    "        list_i.append(j.lstrip().rstrip())\n",
    "    return list_i\n",
    "\n",
    "subjects_all_list = []\n",
    "for i in df_eng['subjects_all']:\n",
    "    subjects_all_list.append(string_to_list(i))\n",
    "df_eng['subjects_list'] = np.array(subjects_all_list)\n",
    "\n",
    "subjects_emph_list = []\n",
    "for i in df_eng['subjects_emph']:\n",
    "    subjects_emph_list.append(string_to_list(i))\n",
    "df_eng['subjects_emph_list'] = np.array(subjects_emph_list)\n",
    "\n",
    "#edu_list = []\n",
    "#for i in df_eng['edu']:\n",
    "#    edu_list.append(string_to_list(i))\n",
    "#df_eng['edu_list'] = np.array(edu_list)\n",
    "\n",
    "#df_eng.drop(columns=['subjects_all','subjects_emph'], inplace=True)"
   ]
  },
  {
   "cell_type": "code",
   "execution_count": 16,
   "metadata": {
    "scrolled": true
   },
   "outputs": [],
   "source": [
    "# engineer subjects categories\n",
    "feature = 'subjects_list'\n",
    "size_subjects = len(df_eng[feature].explode().value_counts().index)\n",
    "popular_subjects = list(df_eng[feature].explode().value_counts().index[:size_subjects//3])\n",
    "mid_subjects = list(df_eng[feature].explode().value_counts().index[size_subjects//3:(size_subjects//3 + size_subjects//3)])\n",
    "unpopular_subjects = list(df_eng[feature].explode().value_counts().index[(size_subjects//3 + size_subjects//3):])\n",
    "\n",
    "unwanted = ''\n",
    "if unwanted in popular_subjects:\n",
    "    popular_subjects.remove(unwanted)\n",
    "elif unwanted in mid_subjects:\n",
    "    mid_subjects.remove(unwanted)\n",
    "elif unwanted in unpopular_subjects:\n",
    "    unpopular_subjects.remove(unwanted)\n",
    "\n",
    "popular_list = []\n",
    "mid_list = []\n",
    "unpopular_list = []\n",
    "for f in df_eng[feature]:\n",
    "    num_popular = 0\n",
    "    num_mid = 0\n",
    "    num_unpopular = 0\n",
    "    for j in f:\n",
    "        if j in popular_subjects:\n",
    "            num_popular += 1\n",
    "        elif j in mid_subjects:\n",
    "            num_mid += 1\n",
    "        elif j in unpopular_subjects:\n",
    "            num_unpopular += 1\n",
    "    popular_list.append(num_popular)\n",
    "    mid_list.append(num_mid)\n",
    "    unpopular_list.append(num_unpopular)\n",
    "df_eng['num_popular_subjects'] = np.array(popular_list)\n",
    "df_eng['num_mid_subjects'] = np.array(mid_list)\n",
    "df_eng['num_unpopular_subjects'] = np.array(unpopular_list)"
   ]
  },
  {
   "cell_type": "code",
   "execution_count": 17,
   "metadata": {},
   "outputs": [],
   "source": [
    "# engineer edu degree categories\n",
    "\n",
    "undergrad = ['BA', 'B.A.', 'BS', 'B.S.', '']\n",
    "postgrad = ['MS', 'M.S', 'MA', 'M.A', 'masters', 'Masters', 'CA', 'C.A', \n",
    "            'MBA', 'M.B.A', 'MD', 'M.D', 'PhD', 'Ph.D', 'Ph.D.', 'Graduate']\n",
    "certified = ['education', 'Ced', 'certified']\n",
    "\n",
    "undergrad_degree = []\n",
    "postgrad_degree = []\n",
    "certified_degree = []\n",
    "for e in df_eng['edu']:\n",
    "    undergrad_count = 0\n",
    "    postgrad_count = 0\n",
    "    certified_count = 0\n",
    "    if any(x in e for x in undergrad):\n",
    "        undergrad_count += 1\n",
    "    if any(x in e for x in postgrad):\n",
    "        postgrad_count += 1\n",
    "    if any(x in e for x in certified):\n",
    "        certified_count +=1\n",
    "    undergrad_degree.append(undergrad_count)\n",
    "    postgrad_degree.append(postgrad_count)\n",
    "    certified_degree.append(certified_count)\n",
    "df_eng['undergrad_degree'] = np.array(undergrad_degree)\n",
    "df_eng['postgrad_degree'] = np.array(postgrad_degree)\n",
    "df_eng['certified_degree'] = np.array(certified_degree)"
   ]
  },
  {
   "cell_type": "code",
   "execution_count": 18,
   "metadata": {},
   "outputs": [],
   "source": [
    "# get university rankings\n",
    "df_wur = pd.read_csv('world-university-rankings_cwurData.csv')\n",
    "df_wur_select = df_wur[['institution', 'world_rank']]\n",
    "\n",
    "list_of_top_schools = (list(df_wur_select['institution'][:30]) + \n",
    "['Berkeley', 'Caltech', 'Harvard', 'Yale', 'Princeton', 'MIT', 'Stanford'])\n",
    "\n",
    "top_school = []\n",
    "for e in df_eng['edu']:\n",
    "    top = 0\n",
    "    if any(x in e for x in list_of_top_schools):\n",
    "        top += 1\n",
    "    top_school.append(top)\n",
    "df_eng['top_school'] = np.array(top_school)"
   ]
  },
  {
   "cell_type": "code",
   "execution_count": 11,
   "metadata": {
    "scrolled": true
   },
   "outputs": [],
   "source": [
    "#cols_to_drop = ['descriptions', 'bio', 'subjects_list', 'subjects_emph_list', 'edu', 'bg_check_date', 'earliest_review_date']"
   ]
  },
  {
   "cell_type": "code",
   "execution_count": 19,
   "metadata": {},
   "outputs": [],
   "source": [
    "target = 'hours_per_week_estimate'\n",
    "X = df_eng.drop(columns=target)\n",
    "y = df_eng[target]"
   ]
  },
  {
   "cell_type": "code",
   "execution_count": 13,
   "metadata": {},
   "outputs": [],
   "source": [
    "def score_CV(model, data, y, metric):\n",
    "    score = cross_val_score(model, data, y, cv=5, scoring=metric)\n",
    "    print(metric, 'mean:', '%.2f'%np.mean(score))"
   ]
  },
  {
   "cell_type": "code",
   "execution_count": 15,
   "metadata": {},
   "outputs": [
    {
     "name": "stdout",
     "output_type": "stream",
     "text": [
      "neg_mean_squared_error mean: -32.02\n"
     ]
    }
   ],
   "source": [
    "knn = KNeighborsRegressor(weights='distance', n_neighbors = 15)\n",
    "scores = score_CV(knn, X, y, 'neg_mean_squared_error')"
   ]
  },
  {
   "cell_type": "code",
   "execution_count": 111,
   "metadata": {},
   "outputs": [
    {
     "data": {
      "image/png": "[encoded data removed]",
      "text/plain": [
       "<Figure size 432x288 with 1 Axes>"
      ]
     },
     "metadata": {
      "needs_background": "light"
     },
     "output_type": "display_data"
    }
   ],
   "source": [
    "rf = RandomForestRegressor(n_estimators=50, criterion='mse', random_state=0)\n",
    "# Plot validation curve\n",
    "param_range = np.arange(1,51,10)\n",
    "train_scores, valid_scores = validation_curve(rf, X, y, 'min_samples_leaf', \n",
    "                                              param_range, cv=5, scoring='neg_mean_squared_error')\n",
    "\n",
    "train_scores_mean = -np.mean(train_scores, axis=1)\n",
    "train_scores_std = -np.std(train_scores, axis=1)\n",
    "valid_scores_mean = -np.mean(valid_scores, axis=1)\n",
    "valid_scores_std = -np.std(valid_scores, axis=1)\n",
    "\n",
    "plt.title(\"Validation Curve, Random Forest\")\n",
    "plt.xlabel('min_samples_leaf')\n",
    "plt.ylabel(\"score - MSE\")\n",
    "plt.ylim(0, 100)\n",
    "lw = 2\n",
    "plt.semilogx(param_range, train_scores_mean, label=\"Training score\",\n",
    "             color=\"darkorange\", lw=lw)\n",
    "plt.fill_between(param_range, train_scores_mean - train_scores_std,\n",
    "                 train_scores_mean + train_scores_std, alpha=0.2,\n",
    "                 color=\"darkorange\", lw=lw)\n",
    "plt.semilogx(param_range, valid_scores_mean, label=\"Cross-validation score\",\n",
    "             color=\"navy\", lw=lw)\n",
    "plt.fill_between(param_range, valid_scores_mean - valid_scores_std,\n",
    "                 valid_scores_mean + valid_scores_std, alpha=0.2,\n",
    "                 color=\"navy\", lw=lw)\n",
    "plt.legend(loc=\"best\")\n",
    "plt.show()"
   ]
  },
  {
   "cell_type": "code",
   "execution_count": 17,
   "metadata": {
    "scrolled": false
   },
   "outputs": [
    {
     "name": "stdout",
     "output_type": "stream",
     "text": [
      "Feature ranking:\n",
      "feature rate (0.18)\n",
      "feature number_subjects (0.11)\n",
      "feature bio_length (0.10)\n",
      "feature hours_sat (0.10)\n",
      "feature hours_per_week_schedule (0.09)\n",
      "feature descriptions_length (0.08)\n",
      "feature num_popular_subjects (0.06)\n",
      "feature hours_thurs (0.04)\n",
      "feature hours_tues (0.04)\n",
      "feature hours_sun (0.04)\n",
      "feature hours_mon (0.04)\n",
      "feature hours_wed (0.04)\n",
      "feature num_mid_subjects (0.03)\n",
      "feature hours_fri (0.02)\n",
      "feature num_unpopular_subjects (0.01)\n",
      "feature number_degrees (0.01)\n",
      "feature top_school (0.01)\n",
      "feature postgrad_degree (0.01)\n",
      "feature certified_degree (0.00)\n",
      "feature undergrad_degree (0.00)\n"
     ]
    },
    {
     "data": {
      "image/png": "[encoded data removed]",
      "text/plain": [
       "<Figure size 432x288 with 1 Axes>"
      ]
     },
     "metadata": {
      "needs_background": "light"
     },
     "output_type": "display_data"
    }
   ],
   "source": [
    "rf = RandomForestRegressor(n_estimators=50, criterion='mse', min_samples_leaf=10, random_state=0)\n",
    "y = df_eda['hours_per_week_estimate']\n",
    "features = list(X.columns)\n",
    "rf.fit(X, y)\n",
    "importances = rf.feature_importances_\n",
    "std = np.std([tree.feature_importances_ for tree in rf.estimators_],\n",
    "             axis=0)\n",
    "indices = np.argsort(importances)[::-1]\n",
    "\n",
    "# Print feature ranking\n",
    "print(\"Feature ranking:\")\n",
    "test = [features[f] for f in indices]\n",
    "for f in range(X.shape[1]):\n",
    "    print(\"feature %s (%.2f)\" %(test[f], importances[indices[f]]))\n",
    "\n",
    "# Plot feature importances of the forest\n",
    "plt.figure()\n",
    "plt.title(\"Feature importances\")\n",
    "plt.bar(range(X.shape[1]), importances[indices],\n",
    "       color=\"r\", yerr=std[indices], align=\"center\")\n",
    "plt.xticks(range(X.shape[1]), test, rotation='vertical')\n",
    "plt.xlim([-1, X.shape[1]])\n",
    "plt.show()"
   ]
  },
  {
   "cell_type": "code",
   "execution_count": 56,
   "metadata": {},
   "outputs": [
    {
     "data": {
      "image/png": "[encoded data removed]",
      "text/plain": [
       "<Figure size 432x288 with 1 Axes>"
      ]
     },
     "metadata": {
      "needs_background": "light"
     },
     "output_type": "display_data"
    }
   ],
   "source": [
    "k_range = range(1, 31)\n",
    "k_scores = []\n",
    "X_top = X[test[:6]]\n",
    "for k in k_range:\n",
    "    knn = KNeighborsRegressor(n_neighbors=k, algorithm='ball_tree',\n",
    "    metric='euclidean')\n",
    "    loss = abs(cross_val_score(knn, X_top, y, cv=5, scoring='neg_mean_squared_error'))\n",
    "    k_scores.append(loss.mean())\n",
    "plt.plot(k_range, k_scores)\n",
    "plt.xlabel('Value of K for KNN')\n",
    "plt.ylabel('Cross-Validated MSE, hours/week')\n",
    "plt.show()"
   ]
  },
  {
   "cell_type": "code",
   "execution_count": 59,
   "metadata": {
    "scrolled": false
   },
   "outputs": [
    {
     "data": {
      "image/png": "[encoded data removed]",
      "text/plain": [
       "<Figure size 432x288 with 1 Axes>"
      ]
     },
     "metadata": {
      "needs_background": "light"
     },
     "output_type": "display_data"
    }
   ],
   "source": [
    "# Kernel density estimate\n",
    "gkde = stats.gaussian_kde(y, bw_method = 0.05, weights=None)\n",
    "ind = np.linspace(0,20,101)\n",
    "kdepdf = gkde.evaluate(ind)\n",
    "#plt.figure()\n",
    "# plot histgram of sample\n",
    "plt.hist(y, bins=70, range=(0,15), density=True)\n",
    "plt.xlabel('Hours per week estimate')\n",
    "# plot data generating density\n",
    "# plt.plot(ind, stats.norm.pdf(ind), color=\"r\", label='DGP normal')\n",
    "# plot estimated density\n",
    "plt.plot(ind, kdepdf, label='kde', color=\"r\")\n",
    "plt.title('Kernel Density Estimation')\n",
    "plt.legend()\n",
    "plt.show()"
   ]
  }
 ],
 "metadata": {
  "kernelspec": {
   "display_name": "Python 3",
   "language": "python",
   "name": "python3"
  },
  "language_info": {
   "codemirror_mode": {
    "name": "ipython",
    "version": 3
   },
   "file_extension": ".py",
   "mimetype": "text/x-python",
   "name": "python",
   "nbconvert_exporter": "python",
   "pygments_lexer": "ipython3",
   "version": "3.7.6"
  }
 },
 "nbformat": 4,
 "nbformat_minor": 4
}
